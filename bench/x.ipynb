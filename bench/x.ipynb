{
 "cells": [
  {
   "cell_type": "code",
   "execution_count": 14,
   "metadata": {},
   "outputs": [],
   "source": [
    "import numpy as np\n",
    "import re\n",
    "\n",
    "# Read the file state_matrix_step_1.txt\n",
    "with open('state_matrix_step_1.txt', 'r') as file:\n",
    "    data = file.read()\n",
    "\n",
    "# Remove non-numeric characters except for spaces, dots, and minus signs\n",
    "cleaned_data = re.sub(r'[^\\d\\.\\-\\s]', '', data)\n",
    "\n",
    "data_np = np.array(cleaned_data.split()).astype(np.float32)"
   ]
  },
  {
   "cell_type": "code",
   "execution_count": null,
   "metadata": {},
   "outputs": [
    {
     "name": "stdout",
     "output_type": "stream",
     "text": [
      "--Return--\n",
      "None\n",
      "> \u001b[0;32m/tmp/ipykernel_284798/2197573219.py\u001b[0m(13)\u001b[0;36m<module>\u001b[0;34m()\u001b[0m\n",
      "\u001b[0;32m     11 \u001b[0;31m\u001b[0;31m# Convert the cleaned data to a NumPy array\u001b[0m\u001b[0;34m\u001b[0m\u001b[0;34m\u001b[0m\u001b[0m\n",
      "\u001b[0m\u001b[0;32m     12 \u001b[0;31m\u001b[0mdata_np\u001b[0m \u001b[0;34m=\u001b[0m \u001b[0mnp\u001b[0m\u001b[0;34m.\u001b[0m\u001b[0mfromstring\u001b[0m\u001b[0;34m(\u001b[0m\u001b[0mcleaned_data\u001b[0m\u001b[0;34m,\u001b[0m \u001b[0msep\u001b[0m\u001b[0;34m=\u001b[0m\u001b[0;34m' '\u001b[0m\u001b[0;34m)\u001b[0m\u001b[0;34m\u001b[0m\u001b[0;34m\u001b[0m\u001b[0m\n",
      "\u001b[0m\u001b[0;32m---> 13 \u001b[0;31m\u001b[0;32mimport\u001b[0m \u001b[0mpdb\u001b[0m\u001b[0;34m;\u001b[0m \u001b[0mpdb\u001b[0m\u001b[0;34m.\u001b[0m\u001b[0mset_trace\u001b[0m\u001b[0;34m(\u001b[0m\u001b[0;34m)\u001b[0m\u001b[0;34m\u001b[0m\u001b[0;34m\u001b[0m\u001b[0m\n",
      "\u001b[0m\u001b[0;32m     14 \u001b[0;31m\u001b[0;31m# Reshape the data to 84x84\u001b[0m\u001b[0;34m\u001b[0m\u001b[0;34m\u001b[0m\u001b[0m\n",
      "\u001b[0m\u001b[0;32m     15 \u001b[0;31m\u001b[0mreshaped_data\u001b[0m \u001b[0;34m=\u001b[0m \u001b[0mdata_np\u001b[0m\u001b[0;34m.\u001b[0m\u001b[0mreshape\u001b[0m\u001b[0;34m(\u001b[0m\u001b[0;34m(\u001b[0m\u001b[0;36m84\u001b[0m\u001b[0;34m,\u001b[0m \u001b[0;36m84\u001b[0m\u001b[0;34m)\u001b[0m\u001b[0;34m)\u001b[0m\u001b[0;34m\u001b[0m\u001b[0;34m\u001b[0m\u001b[0m\n",
      "\u001b[0m\n"
     ]
    },
    {
     "data": {
      "image/png": "[encoded data removed]",
      "text/plain": [
       "<Figure size 640x480 with 1 Axes>"
      ]
     },
     "metadata": {},
     "output_type": "display_data"
    }
   ],
   "source": [
    "import numpy as np\n",
    "import matplotlib.pyplot as plt\n",
    "\n",
    "# Load the data from the text file\n",
    "with open('data_np.txt', 'r') as file:\n",
    "    data = file.read()\n",
    "\n",
    "# Clean the data to remove any non-numeric characters\n",
    "cleaned_data = re.sub(r'[^\\d\\.\\-\\s]', '', data)\n",
    "\n",
    "# Convert the cleaned data to a NumPy array\n",
    "data_np = np.fromstring(cleaned_data, sep=' ')\n",
    "import pdb; pdb.set_trace()\n",
    "# Reshape the data to 84x84\n",
    "reshaped_data = data_np.reshape((84, 84))\n",
    "\n",
    "# Save the reshaped data as an image\n",
    "plt.imshow(reshaped_data, cmap='gray')\n",
    "plt.axis('off')  # Turn off the axis\n",
    "plt.savefig('data_np_image.png', bbox_inches='tight', pad_inches=0)\n",
    "plt.show()"
   ]
  },
  {
   "cell_type": "code",
   "execution_count": null,
   "metadata": {},
   "outputs": [],
   "source": [
    "# Read the file state_matrix_step_1.txt\n",
    "import matplotlib.pyplot as plt\n",
    "import numpy as np\n",
    "import re\n",
    "with open('state_matrix_step_1.txt', 'r') as file:\n",
    "    data = file.read()\n",
    "\n",
    "cleaned_data = re.sub(r'[^\\d\\.\\-\\s]', '', data)\n",
    "data_np = np.array(cleaned_data.split()).astype(np.float32)\n",
    "data_np = data_np.reshape((84, 84, 3))\n",
    "np.savetxt('reshaped_data_0.txt', data_np[:,:,0], fmt='%f')\n",
    "np.savetxt('reshaped_data_1.txt', data_np[:,:,1], fmt='%f')\n",
    "np.savetxt('reshaped_data_2.txt', data_np[:,:,2], fmt='%f')"
   ]
  },
  {
   "cell_type": "code",
   "execution_count": null,
   "metadata": {},
   "outputs": [],
   "source": []
  },
  {
   "cell_type": "code",
   "execution_count": null,
   "metadata": {},
   "outputs": [],
   "source": []
  },
  {
   "cell_type": "code",
   "execution_count": 15,
   "metadata": {},
   "outputs": [
    {
     "data": {
      "text/plain": [
       "(84, 84)"
      ]
     },
     "execution_count": 15,
     "metadata": {},
     "output_type": "execute_result"
    }
   ],
   "source": [
    "data_np[:,:,0].shape"
   ]
  },
  {
   "cell_type": "code",
   "execution_count": null,
   "metadata": {},
   "outputs": [],
   "source": []
  },
  {
   "cell_type": "code",
   "execution_count": 4,
   "metadata": {},
   "outputs": [],
   "source": [
    "# Read the file state_matrix_step_1.txt\n",
    "import matplotlib.pyplot as plt\n",
    "with open('state_matrix_step_1.txt', 'r') as file:\n",
    "    data = file.read()\n",
    "\n",
    "# Remove non-numeric characters except for spaces, dots, and minus signs\n",
    "cleaned_data = re.sub(r'[^\\d\\.\\-\\s]', '', data)\n",
    "\n",
    "# Convert the cleaned data to a NumPy array\n",
    "data_np = np.array(cleaned_data.split()).astype(np.float32)\n",
    "\n",
    "# Reshape the data to the desired shape (assuming 84x84 as in the previous cell)\n",
    "reshaped_data = np.where(data_np.reshape((512, 512)) > 0.000, 255, 0)\n",
    "\n",
    "# Save the reshaped data to a text file\n",
    "np.savetxt('reshaped_data.txt', reshaped_data, fmt='%f')"
   ]
  },
  {
   "cell_type": "code",
   "execution_count": null,
   "metadata": {},
   "outputs": [],
   "source": []
  }
 ],
 "metadata": {
  "kernelspec": {
   "display_name": "agar",
   "language": "python",
   "name": "python3"
  },
  "language_info": {
   "codemirror_mode": {
    "name": "ipython",
    "version": 3
   },
   "file_extension": ".py",
   "mimetype": "text/x-python",
   "name": "python",
   "nbconvert_exporter": "python",
   "pygments_lexer": "ipython3",
   "version": "3.11.9"
  }
 },
 "nbformat": 4,
 "nbformat_minor": 2
}
